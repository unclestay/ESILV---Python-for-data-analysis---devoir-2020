{
 "cells": [
  {
   "cell_type": "code",
   "execution_count": 82,
   "metadata": {
    "scrolled": false
   },
   "outputs": [
    {
     "data": {
      "text/html": [
       "<div>\n",
       "<style scoped>\n",
       "    .dataframe tbody tr th:only-of-type {\n",
       "        vertical-align: middle;\n",
       "    }\n",
       "\n",
       "    .dataframe tbody tr th {\n",
       "        vertical-align: top;\n",
       "    }\n",
       "\n",
       "    .dataframe thead th {\n",
       "        text-align: right;\n",
       "    }\n",
       "</style>\n",
       "<table border=\"1\" class=\"dataframe\">\n",
       "  <thead>\n",
       "    <tr style=\"text-align: right;\">\n",
       "      <th></th>\n",
       "      <th>number</th>\n",
       "      <th>incident_state</th>\n",
       "      <th>active</th>\n",
       "      <th>reassignment_count</th>\n",
       "      <th>reopen_count</th>\n",
       "      <th>sys_mod_count</th>\n",
       "      <th>made_sla</th>\n",
       "      <th>caller_id</th>\n",
       "      <th>opened_by</th>\n",
       "      <th>opened_at</th>\n",
       "      <th>...</th>\n",
       "      <th>u_priority_confirmation</th>\n",
       "      <th>notify</th>\n",
       "      <th>problem_id</th>\n",
       "      <th>rfc</th>\n",
       "      <th>vendor</th>\n",
       "      <th>caused_by</th>\n",
       "      <th>closed_code</th>\n",
       "      <th>resolved_by</th>\n",
       "      <th>resolved_at</th>\n",
       "      <th>closed_at</th>\n",
       "    </tr>\n",
       "  </thead>\n",
       "  <tbody>\n",
       "    <tr>\n",
       "      <th>0</th>\n",
       "      <td>INC0000045</td>\n",
       "      <td>New</td>\n",
       "      <td>True</td>\n",
       "      <td>0</td>\n",
       "      <td>0</td>\n",
       "      <td>0</td>\n",
       "      <td>True</td>\n",
       "      <td>Caller 2403</td>\n",
       "      <td>Opened by  8</td>\n",
       "      <td>29/2/2016 01:16</td>\n",
       "      <td>...</td>\n",
       "      <td>False</td>\n",
       "      <td>Do Not Notify</td>\n",
       "      <td>?</td>\n",
       "      <td>?</td>\n",
       "      <td>?</td>\n",
       "      <td>?</td>\n",
       "      <td>code 5</td>\n",
       "      <td>Resolved by 149</td>\n",
       "      <td>29/2/2016 11:29</td>\n",
       "      <td>5/3/2016 12:00</td>\n",
       "    </tr>\n",
       "    <tr>\n",
       "      <th>1</th>\n",
       "      <td>INC0000045</td>\n",
       "      <td>Resolved</td>\n",
       "      <td>True</td>\n",
       "      <td>0</td>\n",
       "      <td>0</td>\n",
       "      <td>2</td>\n",
       "      <td>True</td>\n",
       "      <td>Caller 2403</td>\n",
       "      <td>Opened by  8</td>\n",
       "      <td>29/2/2016 01:16</td>\n",
       "      <td>...</td>\n",
       "      <td>False</td>\n",
       "      <td>Do Not Notify</td>\n",
       "      <td>?</td>\n",
       "      <td>?</td>\n",
       "      <td>?</td>\n",
       "      <td>?</td>\n",
       "      <td>code 5</td>\n",
       "      <td>Resolved by 149</td>\n",
       "      <td>29/2/2016 11:29</td>\n",
       "      <td>5/3/2016 12:00</td>\n",
       "    </tr>\n",
       "    <tr>\n",
       "      <th>2</th>\n",
       "      <td>INC0000045</td>\n",
       "      <td>Resolved</td>\n",
       "      <td>True</td>\n",
       "      <td>0</td>\n",
       "      <td>0</td>\n",
       "      <td>3</td>\n",
       "      <td>True</td>\n",
       "      <td>Caller 2403</td>\n",
       "      <td>Opened by  8</td>\n",
       "      <td>29/2/2016 01:16</td>\n",
       "      <td>...</td>\n",
       "      <td>False</td>\n",
       "      <td>Do Not Notify</td>\n",
       "      <td>?</td>\n",
       "      <td>?</td>\n",
       "      <td>?</td>\n",
       "      <td>?</td>\n",
       "      <td>code 5</td>\n",
       "      <td>Resolved by 149</td>\n",
       "      <td>29/2/2016 11:29</td>\n",
       "      <td>5/3/2016 12:00</td>\n",
       "    </tr>\n",
       "    <tr>\n",
       "      <th>3</th>\n",
       "      <td>INC0000045</td>\n",
       "      <td>Closed</td>\n",
       "      <td>False</td>\n",
       "      <td>0</td>\n",
       "      <td>0</td>\n",
       "      <td>4</td>\n",
       "      <td>True</td>\n",
       "      <td>Caller 2403</td>\n",
       "      <td>Opened by  8</td>\n",
       "      <td>29/2/2016 01:16</td>\n",
       "      <td>...</td>\n",
       "      <td>False</td>\n",
       "      <td>Do Not Notify</td>\n",
       "      <td>?</td>\n",
       "      <td>?</td>\n",
       "      <td>?</td>\n",
       "      <td>?</td>\n",
       "      <td>code 5</td>\n",
       "      <td>Resolved by 149</td>\n",
       "      <td>29/2/2016 11:29</td>\n",
       "      <td>5/3/2016 12:00</td>\n",
       "    </tr>\n",
       "    <tr>\n",
       "      <th>4</th>\n",
       "      <td>INC0000047</td>\n",
       "      <td>New</td>\n",
       "      <td>True</td>\n",
       "      <td>0</td>\n",
       "      <td>0</td>\n",
       "      <td>0</td>\n",
       "      <td>True</td>\n",
       "      <td>Caller 2403</td>\n",
       "      <td>Opened by  397</td>\n",
       "      <td>29/2/2016 04:40</td>\n",
       "      <td>...</td>\n",
       "      <td>False</td>\n",
       "      <td>Do Not Notify</td>\n",
       "      <td>?</td>\n",
       "      <td>?</td>\n",
       "      <td>?</td>\n",
       "      <td>?</td>\n",
       "      <td>code 5</td>\n",
       "      <td>Resolved by 81</td>\n",
       "      <td>1/3/2016 09:52</td>\n",
       "      <td>6/3/2016 10:00</td>\n",
       "    </tr>\n",
       "  </tbody>\n",
       "</table>\n",
       "<p>5 rows × 36 columns</p>\n",
       "</div>"
      ],
      "text/plain": [
       "       number incident_state  active  reassignment_count  reopen_count  \\\n",
       "0  INC0000045            New    True                   0             0   \n",
       "1  INC0000045       Resolved    True                   0             0   \n",
       "2  INC0000045       Resolved    True                   0             0   \n",
       "3  INC0000045         Closed   False                   0             0   \n",
       "4  INC0000047            New    True                   0             0   \n",
       "\n",
       "   sys_mod_count  made_sla    caller_id       opened_by        opened_at  ...  \\\n",
       "0              0      True  Caller 2403    Opened by  8  29/2/2016 01:16  ...   \n",
       "1              2      True  Caller 2403    Opened by  8  29/2/2016 01:16  ...   \n",
       "2              3      True  Caller 2403    Opened by  8  29/2/2016 01:16  ...   \n",
       "3              4      True  Caller 2403    Opened by  8  29/2/2016 01:16  ...   \n",
       "4              0      True  Caller 2403  Opened by  397  29/2/2016 04:40  ...   \n",
       "\n",
       "  u_priority_confirmation         notify problem_id rfc vendor caused_by  \\\n",
       "0                   False  Do Not Notify          ?   ?      ?         ?   \n",
       "1                   False  Do Not Notify          ?   ?      ?         ?   \n",
       "2                   False  Do Not Notify          ?   ?      ?         ?   \n",
       "3                   False  Do Not Notify          ?   ?      ?         ?   \n",
       "4                   False  Do Not Notify          ?   ?      ?         ?   \n",
       "\n",
       "  closed_code      resolved_by      resolved_at       closed_at  \n",
       "0      code 5  Resolved by 149  29/2/2016 11:29  5/3/2016 12:00  \n",
       "1      code 5  Resolved by 149  29/2/2016 11:29  5/3/2016 12:00  \n",
       "2      code 5  Resolved by 149  29/2/2016 11:29  5/3/2016 12:00  \n",
       "3      code 5  Resolved by 149  29/2/2016 11:29  5/3/2016 12:00  \n",
       "4      code 5   Resolved by 81   1/3/2016 09:52  6/3/2016 10:00  \n",
       "\n",
       "[5 rows x 36 columns]"
      ]
     },
     "execution_count": 82,
     "metadata": {},
     "output_type": "execute_result"
    }
   ],
   "source": [
    "import pandas as pd\n",
    "import seaborn as sns\n",
    "dataset = pd.read_csv(\"incident_event_log.csv\")\n",
    "dataset.head()"
   ]
  },
  {
   "cell_type": "code",
   "execution_count": 3,
   "metadata": {},
   "outputs": [],
   "source": [
    "# !pip install seaborn"
   ]
  },
  {
   "cell_type": "code",
   "execution_count": 6,
   "metadata": {},
   "outputs": [
    {
     "data": {
      "text/plain": [
       "<matplotlib.axes._subplots.AxesSubplot at 0x1a15e7ceb8>"
      ]
     },
     "execution_count": 6,
     "metadata": {},
     "output_type": "execute_result"
    },
    {
     "data": {
      "image/png": "[encoded data removed]",
      "text/plain": [
       "<Figure size 432x288 with 1 Axes>"
      ]
     },
     "metadata": {
      "needs_background": "light"
     },
     "output_type": "display_data"
    }
   ],
   "source": [
    "sns.countplot(x = 'vendor', data = dataset)"
   ]
  },
  {
   "cell_type": "code",
   "execution_count": 8,
   "metadata": {},
   "outputs": [
    {
     "name": "stdout",
     "output_type": "stream",
     "text": [
      "AxesSubplot(0.125,0.125;0.775x0.755)\n",
      "AxesSubplot(0.125,0.125;0.775x0.755)\n",
      "AxesSubplot(0.125,0.125;0.775x0.755)\n",
      "AxesSubplot(0.125,0.125;0.775x0.755)\n"
     ]
    },
    {
     "data": {
      "image/png": "[encoded data removed]",
      "text/plain": [
       "<Figure size 432x288 with 1 Axes>"
      ]
     },
     "metadata": {
      "needs_background": "light"
     },
     "output_type": "display_data"
    }
   ],
   "source": [
    "%matplotlib inline\n",
    "column = [columns for columns in dataset]\n",
    "for i in range(0,4):\n",
    "    print(sns.countplot(x = str(column[i]), data = dataset))"
   ]
  },
  {
   "cell_type": "code",
   "execution_count": 9,
   "metadata": {
    "scrolled": false
   },
   "outputs": [
    {
     "name": "stdout",
     "output_type": "stream",
     "text": [
      "<class 'pandas.core.frame.DataFrame'>\n",
      "RangeIndex: 141712 entries, 0 to 141711\n",
      "Data columns (total 36 columns):\n",
      "number                     141712 non-null object\n",
      "incident_state             141712 non-null object\n",
      "active                     141712 non-null bool\n",
      "reassignment_count         141712 non-null int64\n",
      "reopen_count               141712 non-null int64\n",
      "sys_mod_count              141712 non-null int64\n",
      "made_sla                   141712 non-null bool\n",
      "caller_id                  141712 non-null object\n",
      "opened_by                  141712 non-null object\n",
      "opened_at                  141712 non-null object\n",
      "sys_created_by             141712 non-null object\n",
      "sys_created_at             141712 non-null object\n",
      "sys_updated_by             141712 non-null object\n",
      "sys_updated_at             141712 non-null object\n",
      "contact_type               141712 non-null object\n",
      "location                   141712 non-null object\n",
      "category                   141712 non-null object\n",
      "subcategory                141712 non-null object\n",
      "u_symptom                  141712 non-null object\n",
      "cmdb_ci                    141712 non-null object\n",
      "impact                     141712 non-null object\n",
      "urgency                    141712 non-null object\n",
      "priority                   141712 non-null object\n",
      "assignment_group           141712 non-null object\n",
      "assigned_to                141712 non-null object\n",
      "knowledge                  141712 non-null bool\n",
      "u_priority_confirmation    141712 non-null bool\n",
      "notify                     141712 non-null object\n",
      "problem_id                 141712 non-null object\n",
      "rfc                        141712 non-null object\n",
      "vendor                     141712 non-null object\n",
      "caused_by                  141712 non-null object\n",
      "closed_code                141712 non-null object\n",
      "resolved_by                141712 non-null object\n",
      "resolved_at                141712 non-null object\n",
      "closed_at                  141712 non-null object\n",
      "dtypes: bool(4), int64(3), object(29)\n",
      "memory usage: 35.1+ MB\n"
     ]
    }
   ],
   "source": [
    "dataset.info()"
   ]
  },
  {
   "cell_type": "code",
   "execution_count": 10,
   "metadata": {},
   "outputs": [],
   "source": [
    "data_copy = dataset"
   ]
  },
  {
   "cell_type": "code",
   "execution_count": 11,
   "metadata": {
    "scrolled": true
   },
   "outputs": [
    {
     "data": {
      "text/html": [
       "<div>\n",
       "<style scoped>\n",
       "    .dataframe tbody tr th:only-of-type {\n",
       "        vertical-align: middle;\n",
       "    }\n",
       "\n",
       "    .dataframe tbody tr th {\n",
       "        vertical-align: top;\n",
       "    }\n",
       "\n",
       "    .dataframe thead th {\n",
       "        text-align: right;\n",
       "    }\n",
       "</style>\n",
       "<table border=\"1\" class=\"dataframe\">\n",
       "  <thead>\n",
       "    <tr style=\"text-align: right;\">\n",
       "      <th></th>\n",
       "      <th>number</th>\n",
       "      <th>incident_state</th>\n",
       "      <th>active</th>\n",
       "      <th>reassignment_count</th>\n",
       "      <th>reopen_count</th>\n",
       "      <th>sys_mod_count</th>\n",
       "      <th>made_sla</th>\n",
       "      <th>caller_id</th>\n",
       "      <th>opened_by</th>\n",
       "      <th>opened_at</th>\n",
       "      <th>...</th>\n",
       "      <th>u_priority_confirmation</th>\n",
       "      <th>notify</th>\n",
       "      <th>problem_id</th>\n",
       "      <th>rfc</th>\n",
       "      <th>vendor</th>\n",
       "      <th>caused_by</th>\n",
       "      <th>closed_code</th>\n",
       "      <th>resolved_by</th>\n",
       "      <th>resolved_at</th>\n",
       "      <th>closed_at</th>\n",
       "    </tr>\n",
       "  </thead>\n",
       "  <tbody>\n",
       "    <tr>\n",
       "      <th>0</th>\n",
       "      <td>INC0000045</td>\n",
       "      <td>New</td>\n",
       "      <td>True</td>\n",
       "      <td>0</td>\n",
       "      <td>0</td>\n",
       "      <td>0</td>\n",
       "      <td>True</td>\n",
       "      <td>Caller 2403</td>\n",
       "      <td>Opened by  8</td>\n",
       "      <td>29/2/2016 01:16</td>\n",
       "      <td>...</td>\n",
       "      <td>False</td>\n",
       "      <td>Do Not Notify</td>\n",
       "      <td>?</td>\n",
       "      <td>?</td>\n",
       "      <td>?</td>\n",
       "      <td>?</td>\n",
       "      <td>code 5</td>\n",
       "      <td>Resolved by 149</td>\n",
       "      <td>29/2/2016 11:29</td>\n",
       "      <td>5/3/2016 12:00</td>\n",
       "    </tr>\n",
       "    <tr>\n",
       "      <th>1</th>\n",
       "      <td>INC0000045</td>\n",
       "      <td>Resolved</td>\n",
       "      <td>True</td>\n",
       "      <td>0</td>\n",
       "      <td>0</td>\n",
       "      <td>2</td>\n",
       "      <td>True</td>\n",
       "      <td>Caller 2403</td>\n",
       "      <td>Opened by  8</td>\n",
       "      <td>29/2/2016 01:16</td>\n",
       "      <td>...</td>\n",
       "      <td>False</td>\n",
       "      <td>Do Not Notify</td>\n",
       "      <td>?</td>\n",
       "      <td>?</td>\n",
       "      <td>?</td>\n",
       "      <td>?</td>\n",
       "      <td>code 5</td>\n",
       "      <td>Resolved by 149</td>\n",
       "      <td>29/2/2016 11:29</td>\n",
       "      <td>5/3/2016 12:00</td>\n",
       "    </tr>\n",
       "    <tr>\n",
       "      <th>2</th>\n",
       "      <td>INC0000045</td>\n",
       "      <td>Resolved</td>\n",
       "      <td>True</td>\n",
       "      <td>0</td>\n",
       "      <td>0</td>\n",
       "      <td>3</td>\n",
       "      <td>True</td>\n",
       "      <td>Caller 2403</td>\n",
       "      <td>Opened by  8</td>\n",
       "      <td>29/2/2016 01:16</td>\n",
       "      <td>...</td>\n",
       "      <td>False</td>\n",
       "      <td>Do Not Notify</td>\n",
       "      <td>?</td>\n",
       "      <td>?</td>\n",
       "      <td>?</td>\n",
       "      <td>?</td>\n",
       "      <td>code 5</td>\n",
       "      <td>Resolved by 149</td>\n",
       "      <td>29/2/2016 11:29</td>\n",
       "      <td>5/3/2016 12:00</td>\n",
       "    </tr>\n",
       "    <tr>\n",
       "      <th>3</th>\n",
       "      <td>INC0000045</td>\n",
       "      <td>Closed</td>\n",
       "      <td>False</td>\n",
       "      <td>0</td>\n",
       "      <td>0</td>\n",
       "      <td>4</td>\n",
       "      <td>True</td>\n",
       "      <td>Caller 2403</td>\n",
       "      <td>Opened by  8</td>\n",
       "      <td>29/2/2016 01:16</td>\n",
       "      <td>...</td>\n",
       "      <td>False</td>\n",
       "      <td>Do Not Notify</td>\n",
       "      <td>?</td>\n",
       "      <td>?</td>\n",
       "      <td>?</td>\n",
       "      <td>?</td>\n",
       "      <td>code 5</td>\n",
       "      <td>Resolved by 149</td>\n",
       "      <td>29/2/2016 11:29</td>\n",
       "      <td>5/3/2016 12:00</td>\n",
       "    </tr>\n",
       "    <tr>\n",
       "      <th>4</th>\n",
       "      <td>INC0000047</td>\n",
       "      <td>New</td>\n",
       "      <td>True</td>\n",
       "      <td>0</td>\n",
       "      <td>0</td>\n",
       "      <td>0</td>\n",
       "      <td>True</td>\n",
       "      <td>Caller 2403</td>\n",
       "      <td>Opened by  397</td>\n",
       "      <td>29/2/2016 04:40</td>\n",
       "      <td>...</td>\n",
       "      <td>False</td>\n",
       "      <td>Do Not Notify</td>\n",
       "      <td>?</td>\n",
       "      <td>?</td>\n",
       "      <td>?</td>\n",
       "      <td>?</td>\n",
       "      <td>code 5</td>\n",
       "      <td>Resolved by 81</td>\n",
       "      <td>1/3/2016 09:52</td>\n",
       "      <td>6/3/2016 10:00</td>\n",
       "    </tr>\n",
       "  </tbody>\n",
       "</table>\n",
       "<p>5 rows × 36 columns</p>\n",
       "</div>"
      ],
      "text/plain": [
       "       number incident_state  active  reassignment_count  reopen_count  \\\n",
       "0  INC0000045            New    True                   0             0   \n",
       "1  INC0000045       Resolved    True                   0             0   \n",
       "2  INC0000045       Resolved    True                   0             0   \n",
       "3  INC0000045         Closed   False                   0             0   \n",
       "4  INC0000047            New    True                   0             0   \n",
       "\n",
       "   sys_mod_count  made_sla    caller_id       opened_by        opened_at  ...  \\\n",
       "0              0      True  Caller 2403    Opened by  8  29/2/2016 01:16  ...   \n",
       "1              2      True  Caller 2403    Opened by  8  29/2/2016 01:16  ...   \n",
       "2              3      True  Caller 2403    Opened by  8  29/2/2016 01:16  ...   \n",
       "3              4      True  Caller 2403    Opened by  8  29/2/2016 01:16  ...   \n",
       "4              0      True  Caller 2403  Opened by  397  29/2/2016 04:40  ...   \n",
       "\n",
       "  u_priority_confirmation         notify problem_id rfc vendor caused_by  \\\n",
       "0                   False  Do Not Notify          ?   ?      ?         ?   \n",
       "1                   False  Do Not Notify          ?   ?      ?         ?   \n",
       "2                   False  Do Not Notify          ?   ?      ?         ?   \n",
       "3                   False  Do Not Notify          ?   ?      ?         ?   \n",
       "4                   False  Do Not Notify          ?   ?      ?         ?   \n",
       "\n",
       "  closed_code      resolved_by      resolved_at       closed_at  \n",
       "0      code 5  Resolved by 149  29/2/2016 11:29  5/3/2016 12:00  \n",
       "1      code 5  Resolved by 149  29/2/2016 11:29  5/3/2016 12:00  \n",
       "2      code 5  Resolved by 149  29/2/2016 11:29  5/3/2016 12:00  \n",
       "3      code 5  Resolved by 149  29/2/2016 11:29  5/3/2016 12:00  \n",
       "4      code 5   Resolved by 81   1/3/2016 09:52  6/3/2016 10:00  \n",
       "\n",
       "[5 rows x 36 columns]"
      ]
     },
     "execution_count": 11,
     "metadata": {},
     "output_type": "execute_result"
    }
   ],
   "source": [
    "data_copy.head()"
   ]
  },
  {
   "cell_type": "code",
   "execution_count": 12,
   "metadata": {},
   "outputs": [],
   "source": [
    "import numpy as np\n",
    "data_copy = data_copy.replace(\"?\", np.nan)"
   ]
  },
  {
   "cell_type": "code",
   "execution_count": 13,
   "metadata": {},
   "outputs": [
    {
     "name": "stdout",
     "output_type": "stream",
     "text": [
      "<class 'pandas.core.frame.DataFrame'>\n",
      "RangeIndex: 141712 entries, 0 to 141711\n",
      "Data columns (total 36 columns):\n",
      "number                     141712 non-null object\n",
      "incident_state             141712 non-null object\n",
      "active                     141712 non-null bool\n",
      "reassignment_count         141712 non-null int64\n",
      "reopen_count               141712 non-null int64\n",
      "sys_mod_count              141712 non-null int64\n",
      "made_sla                   141712 non-null bool\n",
      "caller_id                  141683 non-null object\n",
      "opened_by                  136877 non-null object\n",
      "opened_at                  141712 non-null object\n",
      "sys_created_by             88636 non-null object\n",
      "sys_created_at             88636 non-null object\n",
      "sys_updated_by             141712 non-null object\n",
      "sys_updated_at             141712 non-null object\n",
      "contact_type               141712 non-null object\n",
      "location                   141636 non-null object\n",
      "category                   141634 non-null object\n",
      "subcategory                141601 non-null object\n",
      "u_symptom                  108748 non-null object\n",
      "cmdb_ci                    445 non-null object\n",
      "impact                     141712 non-null object\n",
      "urgency                    141712 non-null object\n",
      "priority                   141712 non-null object\n",
      "assignment_group           127499 non-null object\n",
      "assigned_to                114216 non-null object\n",
      "knowledge                  141712 non-null bool\n",
      "u_priority_confirmation    141712 non-null bool\n",
      "notify                     141712 non-null object\n",
      "problem_id                 2295 non-null object\n",
      "rfc                        991 non-null object\n",
      "vendor                     244 non-null object\n",
      "caused_by                  23 non-null object\n",
      "closed_code                140998 non-null object\n",
      "resolved_by                141486 non-null object\n",
      "resolved_at                138571 non-null object\n",
      "closed_at                  141712 non-null object\n",
      "dtypes: bool(4), int64(3), object(29)\n",
      "memory usage: 35.1+ MB\n"
     ]
    }
   ],
   "source": [
    "data_copy.info()"
   ]
  },
  {
   "cell_type": "markdown",
   "metadata": {},
   "source": [
    "### it is clear that the na value of \"cmdb_ci\", \"problem_id\", \"rfc\", \"vendor\" and \"caused_by\" column"
   ]
  },
  {
   "cell_type": "code",
   "execution_count": 14,
   "metadata": {},
   "outputs": [
    {
     "data": {
      "text/html": [
       "<div>\n",
       "<style scoped>\n",
       "    .dataframe tbody tr th:only-of-type {\n",
       "        vertical-align: middle;\n",
       "    }\n",
       "\n",
       "    .dataframe tbody tr th {\n",
       "        vertical-align: top;\n",
       "    }\n",
       "\n",
       "    .dataframe thead th {\n",
       "        text-align: right;\n",
       "    }\n",
       "</style>\n",
       "<table border=\"1\" class=\"dataframe\">\n",
       "  <thead>\n",
       "    <tr style=\"text-align: right;\">\n",
       "      <th></th>\n",
       "      <th>reassignment_count</th>\n",
       "      <th>reopen_count</th>\n",
       "      <th>sys_mod_count</th>\n",
       "    </tr>\n",
       "  </thead>\n",
       "  <tbody>\n",
       "    <tr>\n",
       "      <th>count</th>\n",
       "      <td>141712.000000</td>\n",
       "      <td>141712.000000</td>\n",
       "      <td>141712.000000</td>\n",
       "    </tr>\n",
       "    <tr>\n",
       "      <th>mean</th>\n",
       "      <td>1.104197</td>\n",
       "      <td>0.021918</td>\n",
       "      <td>5.080946</td>\n",
       "    </tr>\n",
       "    <tr>\n",
       "      <th>std</th>\n",
       "      <td>1.734673</td>\n",
       "      <td>0.207302</td>\n",
       "      <td>7.680652</td>\n",
       "    </tr>\n",
       "    <tr>\n",
       "      <th>min</th>\n",
       "      <td>0.000000</td>\n",
       "      <td>0.000000</td>\n",
       "      <td>0.000000</td>\n",
       "    </tr>\n",
       "    <tr>\n",
       "      <th>25%</th>\n",
       "      <td>0.000000</td>\n",
       "      <td>0.000000</td>\n",
       "      <td>1.000000</td>\n",
       "    </tr>\n",
       "    <tr>\n",
       "      <th>50%</th>\n",
       "      <td>1.000000</td>\n",
       "      <td>0.000000</td>\n",
       "      <td>3.000000</td>\n",
       "    </tr>\n",
       "    <tr>\n",
       "      <th>75%</th>\n",
       "      <td>1.000000</td>\n",
       "      <td>0.000000</td>\n",
       "      <td>6.000000</td>\n",
       "    </tr>\n",
       "    <tr>\n",
       "      <th>max</th>\n",
       "      <td>27.000000</td>\n",
       "      <td>8.000000</td>\n",
       "      <td>129.000000</td>\n",
       "    </tr>\n",
       "  </tbody>\n",
       "</table>\n",
       "</div>"
      ],
      "text/plain": [
       "       reassignment_count   reopen_count  sys_mod_count\n",
       "count       141712.000000  141712.000000  141712.000000\n",
       "mean             1.104197       0.021918       5.080946\n",
       "std              1.734673       0.207302       7.680652\n",
       "min              0.000000       0.000000       0.000000\n",
       "25%              0.000000       0.000000       1.000000\n",
       "50%              1.000000       0.000000       3.000000\n",
       "75%              1.000000       0.000000       6.000000\n",
       "max             27.000000       8.000000     129.000000"
      ]
     },
     "execution_count": 14,
     "metadata": {},
     "output_type": "execute_result"
    }
   ],
   "source": [
    "dataset.describe()"
   ]
  },
  {
   "cell_type": "code",
   "execution_count": 15,
   "metadata": {},
   "outputs": [
    {
     "data": {
      "text/plain": [
       "'df2 = dataset.replace(\"unknown\",np.nan)\\ndf2.head()'"
      ]
     },
     "execution_count": 15,
     "metadata": {},
     "output_type": "execute_result"
    }
   ],
   "source": [
    "'''df2 = dataset.replace(\"unknown\",np.nan)\n",
    "df2.head()'''"
   ]
  },
  {
   "cell_type": "code",
   "execution_count": 16,
   "metadata": {},
   "outputs": [
    {
     "name": "stdout",
     "output_type": "stream",
     "text": [
      "<class 'pandas.core.frame.DataFrame'>\n",
      "RangeIndex: 141712 entries, 0 to 141711\n",
      "Data columns (total 36 columns):\n",
      "number                     141712 non-null object\n",
      "incident_state             141712 non-null object\n",
      "active                     141712 non-null bool\n",
      "reassignment_count         141712 non-null int64\n",
      "reopen_count               141712 non-null int64\n",
      "sys_mod_count              141712 non-null int64\n",
      "made_sla                   141712 non-null bool\n",
      "caller_id                  141712 non-null object\n",
      "opened_by                  141712 non-null object\n",
      "opened_at                  141712 non-null object\n",
      "sys_created_by             141712 non-null object\n",
      "sys_created_at             141712 non-null object\n",
      "sys_updated_by             141712 non-null object\n",
      "sys_updated_at             141712 non-null object\n",
      "contact_type               141712 non-null object\n",
      "location                   141712 non-null object\n",
      "category                   141712 non-null object\n",
      "subcategory                141712 non-null object\n",
      "u_symptom                  141712 non-null object\n",
      "cmdb_ci                    141712 non-null object\n",
      "impact                     141712 non-null object\n",
      "urgency                    141712 non-null object\n",
      "priority                   141712 non-null object\n",
      "assignment_group           141712 non-null object\n",
      "assigned_to                141712 non-null object\n",
      "knowledge                  141712 non-null bool\n",
      "u_priority_confirmation    141712 non-null bool\n",
      "notify                     141712 non-null object\n",
      "problem_id                 141712 non-null object\n",
      "rfc                        141712 non-null object\n",
      "vendor                     141712 non-null object\n",
      "caused_by                  141712 non-null object\n",
      "closed_code                141712 non-null object\n",
      "resolved_by                141712 non-null object\n",
      "resolved_at                141712 non-null object\n",
      "closed_at                  141712 non-null object\n",
      "dtypes: bool(4), int64(3), object(29)\n",
      "memory usage: 35.1+ MB\n"
     ]
    }
   ],
   "source": [
    "dataset.info()"
   ]
  },
  {
   "cell_type": "code",
   "execution_count": 83,
   "metadata": {
    "scrolled": false
   },
   "outputs": [],
   "source": [
    "dataset = dataset.drop([\"cmdb_ci\",\"problem_id\",\"rfc\",\"vendor\",\"caused_by\"],axis = 1)"
   ]
  },
  {
   "cell_type": "code",
   "execution_count": 18,
   "metadata": {},
   "outputs": [
    {
     "name": "stdout",
     "output_type": "stream",
     "text": [
      "<class 'pandas.core.frame.DataFrame'>\n",
      "RangeIndex: 141712 entries, 0 to 141711\n",
      "Data columns (total 31 columns):\n",
      "number                     141712 non-null object\n",
      "incident_state             141712 non-null object\n",
      "active                     141712 non-null bool\n",
      "reassignment_count         141712 non-null int64\n",
      "reopen_count               141712 non-null int64\n",
      "sys_mod_count              141712 non-null int64\n",
      "made_sla                   141712 non-null bool\n",
      "caller_id                  141712 non-null object\n",
      "opened_by                  141712 non-null object\n",
      "opened_at                  141712 non-null object\n",
      "sys_created_by             141712 non-null object\n",
      "sys_created_at             141712 non-null object\n",
      "sys_updated_by             141712 non-null object\n",
      "sys_updated_at             141712 non-null object\n",
      "contact_type               141712 non-null object\n",
      "location                   141712 non-null object\n",
      "category                   141712 non-null object\n",
      "subcategory                141712 non-null object\n",
      "u_symptom                  141712 non-null object\n",
      "impact                     141712 non-null object\n",
      "urgency                    141712 non-null object\n",
      "priority                   141712 non-null object\n",
      "assignment_group           141712 non-null object\n",
      "assigned_to                141712 non-null object\n",
      "knowledge                  141712 non-null bool\n",
      "u_priority_confirmation    141712 non-null bool\n",
      "notify                     141712 non-null object\n",
      "closed_code                141712 non-null object\n",
      "resolved_by                141712 non-null object\n",
      "resolved_at                141712 non-null object\n",
      "closed_at                  141712 non-null object\n",
      "dtypes: bool(4), int64(3), object(24)\n",
      "memory usage: 29.7+ MB\n"
     ]
    }
   ],
   "source": [
    "dataset.info()"
   ]
  },
  {
   "cell_type": "code",
   "execution_count": 19,
   "metadata": {},
   "outputs": [],
   "source": [
    "# define a function, try to find the catogery and its number of each column\n",
    "from collections import defaultdict\n",
    "\n",
    "def column_to_list(dataset,name_of_list):\n",
    "    alist = dataset[name_of_list].tolist()\n",
    "    return alist\n",
    "\n",
    "def sum_of_catogery(catogery_list):\n",
    "    dic = defaultdict(int)\n",
    "    for a in catogery_list:\n",
    "        dic[a] += 1\n",
    "    \n",
    "    return dic\n",
    "\n",
    "def df_to_ddic(dataset,column_name):\n",
    "    a = column_to_list(dataset,column_name)\n",
    "    dic = sum_of_catogery(a)\n",
    "    \n",
    "    return dic"
   ]
  },
  {
   "cell_type": "code",
   "execution_count": 20,
   "metadata": {},
   "outputs": [],
   "source": [
    "# sort the dictionary by key\n",
    "def sort_by_key(dd):\n",
    "    d = dict(dd)\n",
    "    d = sorted(d.items(), key = lambda item:item[0])\n",
    "\n",
    "    return d"
   ]
  },
  {
   "cell_type": "code",
   "execution_count": 21,
   "metadata": {},
   "outputs": [
    {
     "data": {
      "text/plain": [
       "defaultdict(int,\n",
       "            {'New': 36407,\n",
       "             'Resolved': 25751,\n",
       "             'Closed': 24985,\n",
       "             'Active': 38716,\n",
       "             'Awaiting User Info': 14642,\n",
       "             'Awaiting Problem': 461,\n",
       "             'Awaiting Vendor': 707,\n",
       "             'Awaiting Evidence': 38,\n",
       "             '-100': 5})"
      ]
     },
     "execution_count": 21,
     "metadata": {},
     "output_type": "execute_result"
    }
   ],
   "source": [
    "incident_state_dic = df_to_ddic(dataset, \"incident_state\")\n",
    "incident_state_dic"
   ]
  },
  {
   "cell_type": "code",
   "execution_count": 22,
   "metadata": {},
   "outputs": [
    {
     "data": {
      "text/plain": [
       "(defaultdict(int, {True: 132497, False: 9215}), 2)"
      ]
     },
     "execution_count": 22,
     "metadata": {},
     "output_type": "execute_result"
    }
   ],
   "source": [
    "made_sla_dic = df_to_ddic(dataset,\"made_sla\")\n",
    "made_sla_dic, len(made_sla_dic)"
   ]
  },
  {
   "cell_type": "code",
   "execution_count": 23,
   "metadata": {
    "scrolled": true
   },
   "outputs": [
    {
     "data": {
      "text/plain": [
       "(defaultdict(int,\n",
       "             {'Phone': 140462,\n",
       "              'Email': 220,\n",
       "              'Self service': 995,\n",
       "              'Direct opening': 17,\n",
       "              'IVR': 18}),\n",
       " 5)"
      ]
     },
     "execution_count": 23,
     "metadata": {},
     "output_type": "execute_result"
    }
   ],
   "source": [
    "contact_type_dic = df_to_ddic(dataset,\"contact_type\")\n",
    "contact_type_dic, len(contact_type_dic)"
   ]
  },
  {
   "cell_type": "code",
   "execution_count": 24,
   "metadata": {},
   "outputs": [
    {
     "data": {
      "text/plain": [
       "<matplotlib.axes._subplots.AxesSubplot at 0x1a1646d5c0>"
      ]
     },
     "execution_count": 24,
     "metadata": {},
     "output_type": "execute_result"
    },
    {
     "data": {
      "image/png": "[encoded data removed]",
      "text/plain": [
       "<Figure size 432x288 with 1 Axes>"
      ]
     },
     "metadata": {
      "needs_background": "light"
     },
     "output_type": "display_data"
    }
   ],
   "source": [
    "caller_id_ddic = df_to_ddic(dataset,\"caller_id\")\n",
    "caller_id_ddic\n",
    "sns.countplot(dataset[\"caller_id\"])"
   ]
  },
  {
   "cell_type": "code",
   "execution_count": 27,
   "metadata": {},
   "outputs": [
    {
     "name": "stdout",
     "output_type": "stream",
     "text": [
      "9\n",
      "2\n",
      "28\n",
      "9\n",
      "115\n",
      "2\n",
      "5245\n",
      "208\n",
      "19849\n",
      "186\n",
      "11553\n",
      "846\n",
      "50664\n",
      "5\n",
      "225\n",
      "59\n",
      "255\n",
      "526\n",
      "3\n",
      "3\n",
      "4\n",
      "79\n",
      "235\n",
      "2\n",
      "2\n",
      "2\n",
      "18\n",
      "217\n",
      "18506\n",
      "2707\n"
     ]
    }
   ],
   "source": [
    "column = [columns for columns in dataset]\n",
    "# show the catofery of each column\n",
    "for i in range(1,len(column)):\n",
    "    print(len(df_to_ddic(dataset, str(column[i]))))"
   ]
  },
  {
   "cell_type": "code",
   "execution_count": 28,
   "metadata": {},
   "outputs": [
    {
     "data": {
      "text/plain": [
       "defaultdict(int, {'2 - Medium': 134335, '1 - High': 3491, '3 - Low': 3886})"
      ]
     },
     "execution_count": 28,
     "metadata": {},
     "output_type": "execute_result"
    }
   ],
   "source": [
    "impact_dict = df_to_ddic(dataset, \"impact\")\n",
    "impact_dict"
   ]
  },
  {
   "cell_type": "code",
   "execution_count": 29,
   "metadata": {},
   "outputs": [
    {
     "data": {
      "text/plain": [
       "defaultdict(int, {'2 - Medium': 134094, '3 - Low': 3598, '1 - High': 4020})"
      ]
     },
     "execution_count": 29,
     "metadata": {},
     "output_type": "execute_result"
    }
   ],
   "source": [
    "urgency_dict = df_to_ddic(dataset, \"urgency\")\n",
    "urgency_dict"
   ]
  },
  {
   "cell_type": "code",
   "execution_count": 30,
   "metadata": {},
   "outputs": [
    {
     "data": {
      "text/plain": [
       "defaultdict(int,\n",
       "            {'3 - Moderate': 132452,\n",
       "             '2 - High': 2972,\n",
       "             '4 - Low': 4030,\n",
       "             '1 - Critical': 2258})"
      ]
     },
     "execution_count": 30,
     "metadata": {},
     "output_type": "execute_result"
    }
   ],
   "source": [
    "priority_dict = df_to_ddic(dataset, \"priority\")\n",
    "priority_dict"
   ]
  },
  {
   "cell_type": "code",
   "execution_count": 26,
   "metadata": {},
   "outputs": [
    {
     "data": {
      "text/plain": [
       "defaultdict(int, {'Do Not Notify': 141593, 'Send Email': 119})"
      ]
     },
     "execution_count": 26,
     "metadata": {},
     "output_type": "execute_result"
    }
   ],
   "source": [
    "notify_dict = df_to_ddic(dataset, \"notify\")\n",
    "notify_dict"
   ]
  },
  {
   "cell_type": "code",
   "execution_count": 31,
   "metadata": {
    "scrolled": false
   },
   "outputs": [
    {
     "data": {
      "text/plain": [
       "3141"
      ]
     },
     "execution_count": 31,
     "metadata": {},
     "output_type": "execute_result"
    }
   ],
   "source": [
    "resolved_at_dic = df_to_ddic(dataset, \"resolved_at\")\n",
    "r = dict(resolved_at_dic)\n",
    "r[\"?\"]\n",
    "# how many \"?\" values considered as NA does \"resolved_at\" column have?"
   ]
  },
  {
   "cell_type": "code",
   "execution_count": 32,
   "metadata": {},
   "outputs": [
    {
     "name": "stdout",
     "output_type": "stream",
     "text": [
      "False\n"
     ]
    }
   ],
   "source": [
    "closed_at_ddic = df_to_ddic(dataset,\"closed_at\")\n",
    "\n",
    "# Dose \"closed_at\" column have \"?\" value?\n",
    "c = dict(closed_at_ddic)\n",
    "if \"?\" in c.keys():\n",
    "    print(\"True\")\n",
    "else: \n",
    "    print(\"False\")"
   ]
  },
  {
   "cell_type": "markdown",
   "metadata": {},
   "source": [
    "### plot the \"resolved_at\" and \"closed_at\""
   ]
  },
  {
   "cell_type": "code",
   "execution_count": 84,
   "metadata": {},
   "outputs": [
    {
     "data": {
      "text/plain": [
       "138571"
      ]
     },
     "execution_count": 84,
     "metadata": {},
     "output_type": "execute_result"
    }
   ],
   "source": [
    "# delete the \"?\" value of \"resolved_at\" column in dataframe and plot it with \"closed_at\" column\n",
    "df2=dataset[~dataset['resolved_at'].isin([\"?\"])]\n",
    "len(df2)"
   ]
  },
  {
   "cell_type": "code",
   "execution_count": 61,
   "metadata": {},
   "outputs": [
    {
     "name": "stdout",
     "output_type": "stream",
     "text": [
      "False\n"
     ]
    }
   ],
   "source": [
    "resolved_at_dict2 = df_to_ddic(df2,\"resolved_at\")\n",
    "r2 = dict(resolved_at_dict2)\n",
    "if \"?\" in r2.keys():\n",
    "    print(\"True\")\n",
    "else: \n",
    "    print(\"False\")"
   ]
  },
  {
   "cell_type": "code",
   "execution_count": 62,
   "metadata": {},
   "outputs": [
    {
     "data": {
      "text/plain": [
       "138571"
      ]
     },
     "execution_count": 62,
     "metadata": {},
     "output_type": "execute_result"
    }
   ],
   "source": [
    "len(df2)"
   ]
  },
  {
   "cell_type": "code",
   "execution_count": null,
   "metadata": {},
   "outputs": [],
   "source": [
    "%matplotlib inline\n",
    "df2.plot.scatter(x=\"resolved_at\",y=\"closed_at\")"
   ]
  },
  {
   "cell_type": "markdown",
   "metadata": {},
   "source": [
    "## Change date and time to timestamps."
   ]
  },
  {
   "cell_type": "code",
   "execution_count": 85,
   "metadata": {},
   "outputs": [],
   "source": [
    "import time, datetime\n",
    "from datetime import datetime\n",
    "\n",
    "def time2stamp(cmnt_time):   #转时间戳函数\n",
    "    cmnt_time=datetime.strptime(cmnt_time,'%d/%m/%Y %H:%M')\n",
    "    stamp=int(datetime.timestamp(cmnt_time))\n",
    "    return stamp"
   ]
  },
  {
   "cell_type": "code",
   "execution_count": 86,
   "metadata": {},
   "outputs": [
    {
     "data": {
      "text/plain": [
       "0    29/2/2016 11:29\n",
       "1    29/2/2016 11:29\n",
       "2    29/2/2016 11:29\n",
       "3    29/2/2016 11:29\n",
       "4     1/3/2016 09:52\n",
       "Name: resolved_at, dtype: object"
      ]
     },
     "execution_count": 86,
     "metadata": {},
     "output_type": "execute_result"
    }
   ],
   "source": [
    "df2[\"resolved_at\"].head()"
   ]
  },
  {
   "cell_type": "code",
   "execution_count": 87,
   "metadata": {
    "scrolled": true
   },
   "outputs": [
    {
     "name": "stderr",
     "output_type": "stream",
     "text": [
      "/Users/chenshuyu/anaconda3/lib/python3.7/site-packages/ipykernel_launcher.py:1: SettingWithCopyWarning: \n",
      "A value is trying to be set on a copy of a slice from a DataFrame.\n",
      "Try using .loc[row_indexer,col_indexer] = value instead\n",
      "\n",
      "See the caveats in the documentation: http://pandas.pydata.org/pandas-docs/stable/indexing.html#indexing-view-versus-copy\n",
      "  \"\"\"Entry point for launching an IPython kernel.\n"
     ]
    }
   ],
   "source": [
    "df2[\"resolved_at\"] = df2[\"resolved_at\"].apply(time2stamp)"
   ]
  },
  {
   "cell_type": "code",
   "execution_count": 88,
   "metadata": {},
   "outputs": [
    {
     "name": "stderr",
     "output_type": "stream",
     "text": [
      "/Users/chenshuyu/anaconda3/lib/python3.7/site-packages/ipykernel_launcher.py:1: SettingWithCopyWarning: \n",
      "A value is trying to be set on a copy of a slice from a DataFrame.\n",
      "Try using .loc[row_indexer,col_indexer] = value instead\n",
      "\n",
      "See the caveats in the documentation: http://pandas.pydata.org/pandas-docs/stable/indexing.html#indexing-view-versus-copy\n",
      "  \"\"\"Entry point for launching an IPython kernel.\n"
     ]
    }
   ],
   "source": [
    "df2[\"closed_at\"] = df2[\"closed_at\"].apply(time2stamp)"
   ]
  },
  {
   "cell_type": "code",
   "execution_count": 89,
   "metadata": {
    "scrolled": true
   },
   "outputs": [
    {
     "name": "stderr",
     "output_type": "stream",
     "text": [
      "/Users/chenshuyu/anaconda3/lib/python3.7/site-packages/ipykernel_launcher.py:1: SettingWithCopyWarning: \n",
      "A value is trying to be set on a copy of a slice from a DataFrame.\n",
      "Try using .loc[row_indexer,col_indexer] = value instead\n",
      "\n",
      "See the caveats in the documentation: http://pandas.pydata.org/pandas-docs/stable/indexing.html#indexing-view-versus-copy\n",
      "  \"\"\"Entry point for launching an IPython kernel.\n"
     ]
    }
   ],
   "source": [
    "df2[\"opened_at\"] = df2[\"opened_at\"].apply(time2stamp)"
   ]
  },
  {
   "cell_type": "code",
   "execution_count": 90,
   "metadata": {},
   "outputs": [
    {
     "data": {
      "text/plain": [
       "53076"
      ]
     },
     "execution_count": 90,
     "metadata": {},
     "output_type": "execute_result"
    }
   ],
   "source": [
    "sys_created_at_dic = df_to_ddic(dataset, \"sys_created_at\")\n",
    "s = dict(sys_created_at_dic)\n",
    "s[\"?\"]"
   ]
  },
  {
   "cell_type": "code",
   "execution_count": 91,
   "metadata": {},
   "outputs": [],
   "source": [
    "sys_updated_at_dic = df_to_ddic(dataset, \"sys_updated_at\")\n",
    "#print(sys_updated_at_dic)\n",
    "s2 = dict(sys_updated_at_dic)"
   ]
  },
  {
   "cell_type": "code",
   "execution_count": 92,
   "metadata": {},
   "outputs": [
    {
     "name": "stdout",
     "output_type": "stream",
     "text": [
      "False\n"
     ]
    }
   ],
   "source": [
    "resolved_at_dict2 = df_to_ddic(df2,\"resolved_at\")\n",
    "r2 = dict(resolved_at_dict2)\n",
    "if \"?\" in r2.keys():\n",
    "    print(\"True\")\n",
    "else: \n",
    "    print(\"False\")"
   ]
  },
  {
   "cell_type": "code",
   "execution_count": 93,
   "metadata": {},
   "outputs": [
    {
     "name": "stderr",
     "output_type": "stream",
     "text": [
      "/Users/chenshuyu/anaconda3/lib/python3.7/site-packages/ipykernel_launcher.py:1: SettingWithCopyWarning: \n",
      "A value is trying to be set on a copy of a slice from a DataFrame.\n",
      "Try using .loc[row_indexer,col_indexer] = value instead\n",
      "\n",
      "See the caveats in the documentation: http://pandas.pydata.org/pandas-docs/stable/indexing.html#indexing-view-versus-copy\n",
      "  \"\"\"Entry point for launching an IPython kernel.\n"
     ]
    }
   ],
   "source": [
    "df2[\"sys_updated_at\"] = df2[\"sys_updated_at\"].apply(time2stamp)"
   ]
  },
  {
   "cell_type": "code",
   "execution_count": 94,
   "metadata": {},
   "outputs": [
    {
     "data": {
      "text/plain": [
       "<matplotlib.axes._subplots.AxesSubplot at 0x1a204a67b8>"
      ]
     },
     "execution_count": 94,
     "metadata": {},
     "output_type": "execute_result"
    },
    {
     "data": {
      "image/png": "[encoded data removed]",
      "text/plain": [
       "<Figure size 432x288 with 1 Axes>"
      ]
     },
     "metadata": {
      "needs_background": "light"
     },
     "output_type": "display_data"
    }
   ],
   "source": [
    "%matplotlib inline\n",
    "df2.plot.scatter(x=\"sys_updated_at\",y=\"closed_at\")"
   ]
  },
  {
   "cell_type": "code",
   "execution_count": null,
   "metadata": {},
   "outputs": [],
   "source": [
    "# It is not so obvious, those two column is a linear regression, so when choosing the target, \"closed_at\" \n",
    "# column is better as it doesn't have \"?\" value."
   ]
  },
  {
   "cell_type": "code",
   "execution_count": 95,
   "metadata": {},
   "outputs": [
    {
     "name": "stdout",
     "output_type": "stream",
     "text": [
      "<class 'pandas.core.frame.DataFrame'>\n",
      "Int64Index: 138571 entries, 0 to 141711\n",
      "Data columns (total 31 columns):\n",
      "number                     138571 non-null object\n",
      "incident_state             138571 non-null object\n",
      "active                     138571 non-null bool\n",
      "reassignment_count         138571 non-null int64\n",
      "reopen_count               138571 non-null int64\n",
      "sys_mod_count              138571 non-null int64\n",
      "made_sla                   138571 non-null bool\n",
      "caller_id                  138571 non-null object\n",
      "opened_by                  138571 non-null object\n",
      "opened_at                  138571 non-null int64\n",
      "sys_created_by             138571 non-null object\n",
      "sys_created_at             138571 non-null object\n",
      "sys_updated_by             138571 non-null object\n",
      "sys_updated_at             138571 non-null int64\n",
      "contact_type               138571 non-null object\n",
      "location                   138571 non-null object\n",
      "category                   138571 non-null object\n",
      "subcategory                138571 non-null object\n",
      "u_symptom                  138571 non-null object\n",
      "impact                     138571 non-null object\n",
      "urgency                    138571 non-null object\n",
      "priority                   138571 non-null object\n",
      "assignment_group           138571 non-null object\n",
      "assigned_to                138571 non-null object\n",
      "knowledge                  138571 non-null bool\n",
      "u_priority_confirmation    138571 non-null bool\n",
      "notify                     138571 non-null object\n",
      "closed_code                138571 non-null object\n",
      "resolved_by                138571 non-null object\n",
      "resolved_at                138571 non-null int64\n",
      "closed_at                  138571 non-null int64\n",
      "dtypes: bool(4), int64(7), object(20)\n",
      "memory usage: 30.1+ MB\n"
     ]
    }
   ],
   "source": [
    "df2.info()"
   ]
  },
  {
   "cell_type": "code",
   "execution_count": 96,
   "metadata": {},
   "outputs": [
    {
     "data": {
      "text/plain": [
       "number                     object\n",
       "incident_state             object\n",
       "active                       bool\n",
       "reassignment_count          int64\n",
       "reopen_count                int64\n",
       "sys_mod_count               int64\n",
       "made_sla                     bool\n",
       "caller_id                  object\n",
       "opened_by                  object\n",
       "opened_at                   int64\n",
       "sys_created_by             object\n",
       "sys_created_at             object\n",
       "sys_updated_by             object\n",
       "sys_updated_at              int64\n",
       "contact_type               object\n",
       "location                   object\n",
       "category                   object\n",
       "subcategory                object\n",
       "u_symptom                  object\n",
       "impact                     object\n",
       "urgency                    object\n",
       "priority                   object\n",
       "assignment_group           object\n",
       "assigned_to                object\n",
       "knowledge                    bool\n",
       "u_priority_confirmation      bool\n",
       "notify                     object\n",
       "closed_code                object\n",
       "resolved_by                object\n",
       "resolved_at                 int64\n",
       "closed_at                   int64\n",
       "dtype: object"
      ]
     },
     "execution_count": 96,
     "metadata": {},
     "output_type": "execute_result"
    }
   ],
   "source": [
    "df2.dtypes"
   ]
  },
  {
   "cell_type": "code",
   "execution_count": 97,
   "metadata": {},
   "outputs": [
    {
     "name": "stderr",
     "output_type": "stream",
     "text": [
      "/Users/chenshuyu/anaconda3/lib/python3.7/site-packages/ipykernel_launcher.py:1: SettingWithCopyWarning: \n",
      "A value is trying to be set on a copy of a slice from a DataFrame.\n",
      "Try using .loc[row_indexer,col_indexer] = value instead\n",
      "\n",
      "See the caveats in the documentation: http://pandas.pydata.org/pandas-docs/stable/indexing.html#indexing-view-versus-copy\n",
      "  \"\"\"Entry point for launching an IPython kernel.\n"
     ]
    }
   ],
   "source": [
    "df2[\"rest_time2\"] = df2.apply(lambda x: x[\"closed_at\"] - x[\"sys_updated_at\"], axis=1)"
   ]
  },
  {
   "cell_type": "code",
   "execution_count": 98,
   "metadata": {},
   "outputs": [
    {
     "data": {
      "text/html": [
       "<div>\n",
       "<style scoped>\n",
       "    .dataframe tbody tr th:only-of-type {\n",
       "        vertical-align: middle;\n",
       "    }\n",
       "\n",
       "    .dataframe tbody tr th {\n",
       "        vertical-align: top;\n",
       "    }\n",
       "\n",
       "    .dataframe thead th {\n",
       "        text-align: right;\n",
       "    }\n",
       "</style>\n",
       "<table border=\"1\" class=\"dataframe\">\n",
       "  <thead>\n",
       "    <tr style=\"text-align: right;\">\n",
       "      <th></th>\n",
       "      <th>number</th>\n",
       "      <th>incident_state</th>\n",
       "      <th>active</th>\n",
       "      <th>reassignment_count</th>\n",
       "      <th>reopen_count</th>\n",
       "      <th>sys_mod_count</th>\n",
       "      <th>made_sla</th>\n",
       "      <th>caller_id</th>\n",
       "      <th>opened_by</th>\n",
       "      <th>opened_at</th>\n",
       "      <th>...</th>\n",
       "      <th>assignment_group</th>\n",
       "      <th>assigned_to</th>\n",
       "      <th>knowledge</th>\n",
       "      <th>u_priority_confirmation</th>\n",
       "      <th>notify</th>\n",
       "      <th>closed_code</th>\n",
       "      <th>resolved_by</th>\n",
       "      <th>resolved_at</th>\n",
       "      <th>closed_at</th>\n",
       "      <th>rest_time2</th>\n",
       "    </tr>\n",
       "  </thead>\n",
       "  <tbody>\n",
       "    <tr>\n",
       "      <th>0</th>\n",
       "      <td>INC0000045</td>\n",
       "      <td>New</td>\n",
       "      <td>True</td>\n",
       "      <td>0</td>\n",
       "      <td>0</td>\n",
       "      <td>0</td>\n",
       "      <td>True</td>\n",
       "      <td>Caller 2403</td>\n",
       "      <td>Opened by  8</td>\n",
       "      <td>1456704960</td>\n",
       "      <td>...</td>\n",
       "      <td>Group 56</td>\n",
       "      <td>?</td>\n",
       "      <td>True</td>\n",
       "      <td>False</td>\n",
       "      <td>Do Not Notify</td>\n",
       "      <td>code 5</td>\n",
       "      <td>Resolved by 149</td>\n",
       "      <td>1456741740</td>\n",
       "      <td>1457175600</td>\n",
       "      <td>470220</td>\n",
       "    </tr>\n",
       "    <tr>\n",
       "      <th>1</th>\n",
       "      <td>INC0000045</td>\n",
       "      <td>Resolved</td>\n",
       "      <td>True</td>\n",
       "      <td>0</td>\n",
       "      <td>0</td>\n",
       "      <td>2</td>\n",
       "      <td>True</td>\n",
       "      <td>Caller 2403</td>\n",
       "      <td>Opened by  8</td>\n",
       "      <td>1456704960</td>\n",
       "      <td>...</td>\n",
       "      <td>Group 56</td>\n",
       "      <td>?</td>\n",
       "      <td>True</td>\n",
       "      <td>False</td>\n",
       "      <td>Do Not Notify</td>\n",
       "      <td>code 5</td>\n",
       "      <td>Resolved by 149</td>\n",
       "      <td>1456741740</td>\n",
       "      <td>1457175600</td>\n",
       "      <td>443220</td>\n",
       "    </tr>\n",
       "    <tr>\n",
       "      <th>2</th>\n",
       "      <td>INC0000045</td>\n",
       "      <td>Resolved</td>\n",
       "      <td>True</td>\n",
       "      <td>0</td>\n",
       "      <td>0</td>\n",
       "      <td>3</td>\n",
       "      <td>True</td>\n",
       "      <td>Caller 2403</td>\n",
       "      <td>Opened by  8</td>\n",
       "      <td>1456704960</td>\n",
       "      <td>...</td>\n",
       "      <td>Group 56</td>\n",
       "      <td>?</td>\n",
       "      <td>True</td>\n",
       "      <td>False</td>\n",
       "      <td>Do Not Notify</td>\n",
       "      <td>code 5</td>\n",
       "      <td>Resolved by 149</td>\n",
       "      <td>1456741740</td>\n",
       "      <td>1457175600</td>\n",
       "      <td>433860</td>\n",
       "    </tr>\n",
       "    <tr>\n",
       "      <th>3</th>\n",
       "      <td>INC0000045</td>\n",
       "      <td>Closed</td>\n",
       "      <td>False</td>\n",
       "      <td>0</td>\n",
       "      <td>0</td>\n",
       "      <td>4</td>\n",
       "      <td>True</td>\n",
       "      <td>Caller 2403</td>\n",
       "      <td>Opened by  8</td>\n",
       "      <td>1456704960</td>\n",
       "      <td>...</td>\n",
       "      <td>Group 56</td>\n",
       "      <td>?</td>\n",
       "      <td>True</td>\n",
       "      <td>False</td>\n",
       "      <td>Do Not Notify</td>\n",
       "      <td>code 5</td>\n",
       "      <td>Resolved by 149</td>\n",
       "      <td>1456741740</td>\n",
       "      <td>1457175600</td>\n",
       "      <td>0</td>\n",
       "    </tr>\n",
       "    <tr>\n",
       "      <th>4</th>\n",
       "      <td>INC0000047</td>\n",
       "      <td>New</td>\n",
       "      <td>True</td>\n",
       "      <td>0</td>\n",
       "      <td>0</td>\n",
       "      <td>0</td>\n",
       "      <td>True</td>\n",
       "      <td>Caller 2403</td>\n",
       "      <td>Opened by  397</td>\n",
       "      <td>1456717200</td>\n",
       "      <td>...</td>\n",
       "      <td>Group 70</td>\n",
       "      <td>Resolver 89</td>\n",
       "      <td>True</td>\n",
       "      <td>False</td>\n",
       "      <td>Do Not Notify</td>\n",
       "      <td>code 5</td>\n",
       "      <td>Resolved by 81</td>\n",
       "      <td>1456822320</td>\n",
       "      <td>1457254800</td>\n",
       "      <td>536580</td>\n",
       "    </tr>\n",
       "  </tbody>\n",
       "</table>\n",
       "<p>5 rows × 32 columns</p>\n",
       "</div>"
      ],
      "text/plain": [
       "       number incident_state  active  reassignment_count  reopen_count  \\\n",
       "0  INC0000045            New    True                   0             0   \n",
       "1  INC0000045       Resolved    True                   0             0   \n",
       "2  INC0000045       Resolved    True                   0             0   \n",
       "3  INC0000045         Closed   False                   0             0   \n",
       "4  INC0000047            New    True                   0             0   \n",
       "\n",
       "   sys_mod_count  made_sla    caller_id       opened_by   opened_at  ...  \\\n",
       "0              0      True  Caller 2403    Opened by  8  1456704960  ...   \n",
       "1              2      True  Caller 2403    Opened by  8  1456704960  ...   \n",
       "2              3      True  Caller 2403    Opened by  8  1456704960  ...   \n",
       "3              4      True  Caller 2403    Opened by  8  1456704960  ...   \n",
       "4              0      True  Caller 2403  Opened by  397  1456717200  ...   \n",
       "\n",
       "  assignment_group  assigned_to knowledge  u_priority_confirmation  \\\n",
       "0         Group 56            ?      True                    False   \n",
       "1         Group 56            ?      True                    False   \n",
       "2         Group 56            ?      True                    False   \n",
       "3         Group 56            ?      True                    False   \n",
       "4         Group 70  Resolver 89      True                    False   \n",
       "\n",
       "          notify closed_code      resolved_by resolved_at   closed_at  \\\n",
       "0  Do Not Notify      code 5  Resolved by 149  1456741740  1457175600   \n",
       "1  Do Not Notify      code 5  Resolved by 149  1456741740  1457175600   \n",
       "2  Do Not Notify      code 5  Resolved by 149  1456741740  1457175600   \n",
       "3  Do Not Notify      code 5  Resolved by 149  1456741740  1457175600   \n",
       "4  Do Not Notify      code 5   Resolved by 81  1456822320  1457254800   \n",
       "\n",
       "  rest_time2  \n",
       "0     470220  \n",
       "1     443220  \n",
       "2     433860  \n",
       "3          0  \n",
       "4     536580  \n",
       "\n",
       "[5 rows x 32 columns]"
      ]
     },
     "execution_count": 98,
     "metadata": {},
     "output_type": "execute_result"
    }
   ],
   "source": [
    "df2.head()"
   ]
  },
  {
   "cell_type": "code",
   "execution_count": 99,
   "metadata": {},
   "outputs": [],
   "source": [
    "df = df2.drop([\"sys_updated_at\",\"closed_at\"],axis = 1)"
   ]
  },
  {
   "cell_type": "code",
   "execution_count": 100,
   "metadata": {},
   "outputs": [
    {
     "data": {
      "text/html": [
       "<div>\n",
       "<style scoped>\n",
       "    .dataframe tbody tr th:only-of-type {\n",
       "        vertical-align: middle;\n",
       "    }\n",
       "\n",
       "    .dataframe tbody tr th {\n",
       "        vertical-align: top;\n",
       "    }\n",
       "\n",
       "    .dataframe thead th {\n",
       "        text-align: right;\n",
       "    }\n",
       "</style>\n",
       "<table border=\"1\" class=\"dataframe\">\n",
       "  <thead>\n",
       "    <tr style=\"text-align: right;\">\n",
       "      <th></th>\n",
       "      <th>number</th>\n",
       "      <th>incident_state</th>\n",
       "      <th>active</th>\n",
       "      <th>reassignment_count</th>\n",
       "      <th>reopen_count</th>\n",
       "      <th>sys_mod_count</th>\n",
       "      <th>made_sla</th>\n",
       "      <th>caller_id</th>\n",
       "      <th>opened_by</th>\n",
       "      <th>opened_at</th>\n",
       "      <th>...</th>\n",
       "      <th>priority</th>\n",
       "      <th>assignment_group</th>\n",
       "      <th>assigned_to</th>\n",
       "      <th>knowledge</th>\n",
       "      <th>u_priority_confirmation</th>\n",
       "      <th>notify</th>\n",
       "      <th>closed_code</th>\n",
       "      <th>resolved_by</th>\n",
       "      <th>resolved_at</th>\n",
       "      <th>rest_time2</th>\n",
       "    </tr>\n",
       "  </thead>\n",
       "  <tbody>\n",
       "    <tr>\n",
       "      <th>0</th>\n",
       "      <td>INC0000045</td>\n",
       "      <td>New</td>\n",
       "      <td>True</td>\n",
       "      <td>0</td>\n",
       "      <td>0</td>\n",
       "      <td>0</td>\n",
       "      <td>True</td>\n",
       "      <td>Caller 2403</td>\n",
       "      <td>Opened by  8</td>\n",
       "      <td>1456704960</td>\n",
       "      <td>...</td>\n",
       "      <td>3 - Moderate</td>\n",
       "      <td>Group 56</td>\n",
       "      <td>?</td>\n",
       "      <td>True</td>\n",
       "      <td>False</td>\n",
       "      <td>Do Not Notify</td>\n",
       "      <td>code 5</td>\n",
       "      <td>Resolved by 149</td>\n",
       "      <td>1456741740</td>\n",
       "      <td>470220</td>\n",
       "    </tr>\n",
       "    <tr>\n",
       "      <th>1</th>\n",
       "      <td>INC0000045</td>\n",
       "      <td>Resolved</td>\n",
       "      <td>True</td>\n",
       "      <td>0</td>\n",
       "      <td>0</td>\n",
       "      <td>2</td>\n",
       "      <td>True</td>\n",
       "      <td>Caller 2403</td>\n",
       "      <td>Opened by  8</td>\n",
       "      <td>1456704960</td>\n",
       "      <td>...</td>\n",
       "      <td>3 - Moderate</td>\n",
       "      <td>Group 56</td>\n",
       "      <td>?</td>\n",
       "      <td>True</td>\n",
       "      <td>False</td>\n",
       "      <td>Do Not Notify</td>\n",
       "      <td>code 5</td>\n",
       "      <td>Resolved by 149</td>\n",
       "      <td>1456741740</td>\n",
       "      <td>443220</td>\n",
       "    </tr>\n",
       "    <tr>\n",
       "      <th>2</th>\n",
       "      <td>INC0000045</td>\n",
       "      <td>Resolved</td>\n",
       "      <td>True</td>\n",
       "      <td>0</td>\n",
       "      <td>0</td>\n",
       "      <td>3</td>\n",
       "      <td>True</td>\n",
       "      <td>Caller 2403</td>\n",
       "      <td>Opened by  8</td>\n",
       "      <td>1456704960</td>\n",
       "      <td>...</td>\n",
       "      <td>3 - Moderate</td>\n",
       "      <td>Group 56</td>\n",
       "      <td>?</td>\n",
       "      <td>True</td>\n",
       "      <td>False</td>\n",
       "      <td>Do Not Notify</td>\n",
       "      <td>code 5</td>\n",
       "      <td>Resolved by 149</td>\n",
       "      <td>1456741740</td>\n",
       "      <td>433860</td>\n",
       "    </tr>\n",
       "    <tr>\n",
       "      <th>3</th>\n",
       "      <td>INC0000045</td>\n",
       "      <td>Closed</td>\n",
       "      <td>False</td>\n",
       "      <td>0</td>\n",
       "      <td>0</td>\n",
       "      <td>4</td>\n",
       "      <td>True</td>\n",
       "      <td>Caller 2403</td>\n",
       "      <td>Opened by  8</td>\n",
       "      <td>1456704960</td>\n",
       "      <td>...</td>\n",
       "      <td>3 - Moderate</td>\n",
       "      <td>Group 56</td>\n",
       "      <td>?</td>\n",
       "      <td>True</td>\n",
       "      <td>False</td>\n",
       "      <td>Do Not Notify</td>\n",
       "      <td>code 5</td>\n",
       "      <td>Resolved by 149</td>\n",
       "      <td>1456741740</td>\n",
       "      <td>0</td>\n",
       "    </tr>\n",
       "    <tr>\n",
       "      <th>4</th>\n",
       "      <td>INC0000047</td>\n",
       "      <td>New</td>\n",
       "      <td>True</td>\n",
       "      <td>0</td>\n",
       "      <td>0</td>\n",
       "      <td>0</td>\n",
       "      <td>True</td>\n",
       "      <td>Caller 2403</td>\n",
       "      <td>Opened by  397</td>\n",
       "      <td>1456717200</td>\n",
       "      <td>...</td>\n",
       "      <td>3 - Moderate</td>\n",
       "      <td>Group 70</td>\n",
       "      <td>Resolver 89</td>\n",
       "      <td>True</td>\n",
       "      <td>False</td>\n",
       "      <td>Do Not Notify</td>\n",
       "      <td>code 5</td>\n",
       "      <td>Resolved by 81</td>\n",
       "      <td>1456822320</td>\n",
       "      <td>536580</td>\n",
       "    </tr>\n",
       "  </tbody>\n",
       "</table>\n",
       "<p>5 rows × 30 columns</p>\n",
       "</div>"
      ],
      "text/plain": [
       "       number incident_state  active  reassignment_count  reopen_count  \\\n",
       "0  INC0000045            New    True                   0             0   \n",
       "1  INC0000045       Resolved    True                   0             0   \n",
       "2  INC0000045       Resolved    True                   0             0   \n",
       "3  INC0000045         Closed   False                   0             0   \n",
       "4  INC0000047            New    True                   0             0   \n",
       "\n",
       "   sys_mod_count  made_sla    caller_id       opened_by   opened_at  ...  \\\n",
       "0              0      True  Caller 2403    Opened by  8  1456704960  ...   \n",
       "1              2      True  Caller 2403    Opened by  8  1456704960  ...   \n",
       "2              3      True  Caller 2403    Opened by  8  1456704960  ...   \n",
       "3              4      True  Caller 2403    Opened by  8  1456704960  ...   \n",
       "4              0      True  Caller 2403  Opened by  397  1456717200  ...   \n",
       "\n",
       "       priority assignment_group  assigned_to knowledge  \\\n",
       "0  3 - Moderate         Group 56            ?      True   \n",
       "1  3 - Moderate         Group 56            ?      True   \n",
       "2  3 - Moderate         Group 56            ?      True   \n",
       "3  3 - Moderate         Group 56            ?      True   \n",
       "4  3 - Moderate         Group 70  Resolver 89      True   \n",
       "\n",
       "  u_priority_confirmation         notify closed_code      resolved_by  \\\n",
       "0                   False  Do Not Notify      code 5  Resolved by 149   \n",
       "1                   False  Do Not Notify      code 5  Resolved by 149   \n",
       "2                   False  Do Not Notify      code 5  Resolved by 149   \n",
       "3                   False  Do Not Notify      code 5  Resolved by 149   \n",
       "4                   False  Do Not Notify      code 5   Resolved by 81   \n",
       "\n",
       "  resolved_at rest_time2  \n",
       "0  1456741740     470220  \n",
       "1  1456741740     443220  \n",
       "2  1456741740     433860  \n",
       "3  1456741740          0  \n",
       "4  1456822320     536580  \n",
       "\n",
       "[5 rows x 30 columns]"
      ]
     },
     "execution_count": 100,
     "metadata": {},
     "output_type": "execute_result"
    }
   ],
   "source": [
    "df.head()"
   ]
  },
  {
   "cell_type": "markdown",
   "metadata": {},
   "source": [
    "## change all the columns with catogory values to label encoder"
   ]
  },
  {
   "cell_type": "code",
   "execution_count": 101,
   "metadata": {},
   "outputs": [],
   "source": [
    "from sklearn.preprocessing import LabelEncoder"
   ]
  },
  {
   "cell_type": "code",
   "execution_count": 102,
   "metadata": {},
   "outputs": [],
   "source": [
    "def convert(data,column):\n",
    "    number = LabelEncoder()\n",
    "    data[column] = number.fit_transform(data[column])\n",
    "    data=data.fillna(-999)\n",
    "    return data"
   ]
  },
  {
   "cell_type": "code",
   "execution_count": 103,
   "metadata": {},
   "outputs": [],
   "source": [
    "column = [columns for columns in df]\n",
    "for i in range(0,len(column)):\n",
    "    if df[str(column[i])].dtypes == \"O\":\n",
    "        convert(df,str(column[i]))\n",
    "    elif df[str(column[i])].dtypes == \"bool\":\n",
    "        convert(df,str(column[i]))"
   ]
  },
  {
   "cell_type": "code",
   "execution_count": 104,
   "metadata": {},
   "outputs": [
    {
     "data": {
      "text/html": [
       "<div>\n",
       "<style scoped>\n",
       "    .dataframe tbody tr th:only-of-type {\n",
       "        vertical-align: middle;\n",
       "    }\n",
       "\n",
       "    .dataframe tbody tr th {\n",
       "        vertical-align: top;\n",
       "    }\n",
       "\n",
       "    .dataframe thead th {\n",
       "        text-align: right;\n",
       "    }\n",
       "</style>\n",
       "<table border=\"1\" class=\"dataframe\">\n",
       "  <thead>\n",
       "    <tr style=\"text-align: right;\">\n",
       "      <th></th>\n",
       "      <th>number</th>\n",
       "      <th>incident_state</th>\n",
       "      <th>active</th>\n",
       "      <th>reassignment_count</th>\n",
       "      <th>reopen_count</th>\n",
       "      <th>sys_mod_count</th>\n",
       "      <th>made_sla</th>\n",
       "      <th>caller_id</th>\n",
       "      <th>opened_by</th>\n",
       "      <th>opened_at</th>\n",
       "      <th>...</th>\n",
       "      <th>priority</th>\n",
       "      <th>assignment_group</th>\n",
       "      <th>assigned_to</th>\n",
       "      <th>knowledge</th>\n",
       "      <th>u_priority_confirmation</th>\n",
       "      <th>notify</th>\n",
       "      <th>closed_code</th>\n",
       "      <th>resolved_by</th>\n",
       "      <th>resolved_at</th>\n",
       "      <th>rest_time2</th>\n",
       "    </tr>\n",
       "  </thead>\n",
       "  <tbody>\n",
       "    <tr>\n",
       "      <th>0</th>\n",
       "      <td>0</td>\n",
       "      <td>7</td>\n",
       "      <td>1</td>\n",
       "      <td>0</td>\n",
       "      <td>0</td>\n",
       "      <td>0</td>\n",
       "      <td>1</td>\n",
       "      <td>1412</td>\n",
       "      <td>200</td>\n",
       "      <td>1456704960</td>\n",
       "      <td>...</td>\n",
       "      <td>2</td>\n",
       "      <td>48</td>\n",
       "      <td>0</td>\n",
       "      <td>1</td>\n",
       "      <td>0</td>\n",
       "      <td>0</td>\n",
       "      <td>13</td>\n",
       "      <td>52</td>\n",
       "      <td>1456741740</td>\n",
       "      <td>470220</td>\n",
       "    </tr>\n",
       "    <tr>\n",
       "      <th>1</th>\n",
       "      <td>0</td>\n",
       "      <td>8</td>\n",
       "      <td>1</td>\n",
       "      <td>0</td>\n",
       "      <td>0</td>\n",
       "      <td>2</td>\n",
       "      <td>1</td>\n",
       "      <td>1412</td>\n",
       "      <td>200</td>\n",
       "      <td>1456704960</td>\n",
       "      <td>...</td>\n",
       "      <td>2</td>\n",
       "      <td>48</td>\n",
       "      <td>0</td>\n",
       "      <td>1</td>\n",
       "      <td>0</td>\n",
       "      <td>0</td>\n",
       "      <td>13</td>\n",
       "      <td>52</td>\n",
       "      <td>1456741740</td>\n",
       "      <td>443220</td>\n",
       "    </tr>\n",
       "    <tr>\n",
       "      <th>2</th>\n",
       "      <td>0</td>\n",
       "      <td>8</td>\n",
       "      <td>1</td>\n",
       "      <td>0</td>\n",
       "      <td>0</td>\n",
       "      <td>3</td>\n",
       "      <td>1</td>\n",
       "      <td>1412</td>\n",
       "      <td>200</td>\n",
       "      <td>1456704960</td>\n",
       "      <td>...</td>\n",
       "      <td>2</td>\n",
       "      <td>48</td>\n",
       "      <td>0</td>\n",
       "      <td>1</td>\n",
       "      <td>0</td>\n",
       "      <td>0</td>\n",
       "      <td>13</td>\n",
       "      <td>52</td>\n",
       "      <td>1456741740</td>\n",
       "      <td>433860</td>\n",
       "    </tr>\n",
       "    <tr>\n",
       "      <th>3</th>\n",
       "      <td>0</td>\n",
       "      <td>6</td>\n",
       "      <td>0</td>\n",
       "      <td>0</td>\n",
       "      <td>0</td>\n",
       "      <td>4</td>\n",
       "      <td>1</td>\n",
       "      <td>1412</td>\n",
       "      <td>200</td>\n",
       "      <td>1456704960</td>\n",
       "      <td>...</td>\n",
       "      <td>2</td>\n",
       "      <td>48</td>\n",
       "      <td>0</td>\n",
       "      <td>1</td>\n",
       "      <td>0</td>\n",
       "      <td>0</td>\n",
       "      <td>13</td>\n",
       "      <td>52</td>\n",
       "      <td>1456741740</td>\n",
       "      <td>0</td>\n",
       "    </tr>\n",
       "    <tr>\n",
       "      <th>4</th>\n",
       "      <td>1</td>\n",
       "      <td>7</td>\n",
       "      <td>1</td>\n",
       "      <td>0</td>\n",
       "      <td>0</td>\n",
       "      <td>0</td>\n",
       "      <td>1</td>\n",
       "      <td>1412</td>\n",
       "      <td>121</td>\n",
       "      <td>1456717200</td>\n",
       "      <td>...</td>\n",
       "      <td>2</td>\n",
       "      <td>64</td>\n",
       "      <td>224</td>\n",
       "      <td>1</td>\n",
       "      <td>0</td>\n",
       "      <td>0</td>\n",
       "      <td>13</td>\n",
       "      <td>197</td>\n",
       "      <td>1456822320</td>\n",
       "      <td>536580</td>\n",
       "    </tr>\n",
       "  </tbody>\n",
       "</table>\n",
       "<p>5 rows × 30 columns</p>\n",
       "</div>"
      ],
      "text/plain": [
       "   number  incident_state  active  reassignment_count  reopen_count  \\\n",
       "0       0               7       1                   0             0   \n",
       "1       0               8       1                   0             0   \n",
       "2       0               8       1                   0             0   \n",
       "3       0               6       0                   0             0   \n",
       "4       1               7       1                   0             0   \n",
       "\n",
       "   sys_mod_count  made_sla  caller_id  opened_by   opened_at  ...  priority  \\\n",
       "0              0         1       1412        200  1456704960  ...         2   \n",
       "1              2         1       1412        200  1456704960  ...         2   \n",
       "2              3         1       1412        200  1456704960  ...         2   \n",
       "3              4         1       1412        200  1456704960  ...         2   \n",
       "4              0         1       1412        121  1456717200  ...         2   \n",
       "\n",
       "   assignment_group  assigned_to  knowledge  u_priority_confirmation  notify  \\\n",
       "0                48            0          1                        0       0   \n",
       "1                48            0          1                        0       0   \n",
       "2                48            0          1                        0       0   \n",
       "3                48            0          1                        0       0   \n",
       "4                64          224          1                        0       0   \n",
       "\n",
       "   closed_code  resolved_by  resolved_at  rest_time2  \n",
       "0           13           52   1456741740      470220  \n",
       "1           13           52   1456741740      443220  \n",
       "2           13           52   1456741740      433860  \n",
       "3           13           52   1456741740           0  \n",
       "4           13          197   1456822320      536580  \n",
       "\n",
       "[5 rows x 30 columns]"
      ]
     },
     "execution_count": 104,
     "metadata": {},
     "output_type": "execute_result"
    }
   ],
   "source": [
    "df.head()"
   ]
  },
  {
   "cell_type": "code",
   "execution_count": 105,
   "metadata": {},
   "outputs": [
    {
     "data": {
      "text/plain": [
       "dtype('int64')"
      ]
     },
     "execution_count": 105,
     "metadata": {},
     "output_type": "execute_result"
    }
   ],
   "source": [
    "df[\"incident_state\"].dtypes"
   ]
  },
  {
   "cell_type": "markdown",
   "metadata": {},
   "source": [
    "# Decision tree"
   ]
  },
  {
   "cell_type": "code",
   "execution_count": 106,
   "metadata": {},
   "outputs": [
    {
     "data": {
      "text/plain": [
       "0.9199744125853732"
      ]
     },
     "execution_count": 106,
     "metadata": {},
     "output_type": "execute_result"
    }
   ],
   "source": [
    "X = df.iloc[:,:-1]\n",
    "\n",
    "y = df[\"rest_time2\"]\n",
    "\n",
    "from sklearn.model_selection import train_test_split\n",
    "X_train, X_test, Y_train, Y_test = train_test_split(X,y)\n",
    "\n",
    "from sklearn.ensemble import RandomForestRegressor\n",
    "from sklearn.tree import DecisionTreeRegressor\n",
    "\n",
    "def get_score(algorithme, X_train, X_test, Y_train, Y_test):\n",
    "    modele     = algorithme.fit(X_train, Y_train)\n",
    "    score      = modele.score(X_test, Y_test)\n",
    "    return score\n",
    "\n",
    "hyperparametres = {#\"n_estimators\" : 30\n",
    "                  \"max_features\"  :  29,\n",
    "                  \"max_depth\"     :  50,}\n",
    "algorithme = DecisionTreeRegressor(**hyperparametres)\n",
    "score = get_score(algorithme, X_train, X_test, Y_train, Y_test)\n",
    "score"
   ]
  },
  {
   "cell_type": "markdown",
   "metadata": {},
   "source": [
    "# random forest"
   ]
  },
  {
   "cell_type": "code",
   "execution_count": 107,
   "metadata": {},
   "outputs": [
    {
     "data": {
      "text/plain": [
       "0.9648402574930236"
      ]
     },
     "execution_count": 107,
     "metadata": {},
     "output_type": "execute_result"
    }
   ],
   "source": [
    "X = df.iloc[:,:-1]\n",
    "\n",
    "y = df[\"rest_time2\"]\n",
    "\n",
    "from sklearn.model_selection import train_test_split\n",
    "X_train, X_test, Y_train, Y_test = train_test_split(X,y)\n",
    "\n",
    "from sklearn.ensemble import RandomForestRegressor\n",
    "\n",
    "def get_score(algorithme, X_train, X_test, Y_train, Y_test):\n",
    "    modele     = algorithme.fit(X_train, Y_train)\n",
    "    score      = modele.score(X_test, Y_test)\n",
    "    return score\n",
    "\n",
    "hyperparametres = {\"n_estimators\" : 30,\n",
    "                  \"max_features\"  :  29,\n",
    "                  \"max_depth\"     :  50}\n",
    "algorithme = RandomForestRegressor(**hyperparametres)\n",
    "score = get_score(algorithme, X_train, X_test, Y_train, Y_test)\n",
    "score"
   ]
  },
  {
   "cell_type": "markdown",
   "metadata": {},
   "source": [
    "## gridsearch"
   ]
  },
  {
   "cell_type": "code",
   "execution_count": 109,
   "metadata": {},
   "outputs": [
    {
     "data": {
      "text/plain": [
       "(0.9635903734916391,\n",
       " RandomForestRegressor(bootstrap=True, criterion='mse', max_depth=30,\n",
       "                       max_features=29, max_leaf_nodes=None,\n",
       "                       min_impurity_decrease=0.0, min_impurity_split=None,\n",
       "                       min_samples_leaf=1, min_samples_split=2,\n",
       "                       min_weight_fraction_leaf=0.0, n_estimators=50,\n",
       "                       n_jobs=None, oob_score=False, random_state=None,\n",
       "                       verbose=0, warm_start=False))"
      ]
     },
     "execution_count": 109,
     "metadata": {},
     "output_type": "execute_result"
    }
   ],
   "source": [
    "from sklearn.model_selection import GridSearchCV\n",
    "\n",
    "algorithm2 = RandomForestRegressor()\n",
    "hyperparameters = {\n",
    "    \"n_estimators\" : [10,25,50],\n",
    "    \"max_depth\"    : [10,20,30],\n",
    "    \"max_features\" : [9,10,29]\n",
    "}\n",
    "\n",
    "grid_optimization = GridSearchCV(algorithm2, \n",
    "                                     hyperparameters, \n",
    "                                     cv=5, \n",
    "                                     iid=False, )\n",
    "\n",
    "scores = grid_optimization.fit(X_train, Y_train)\n",
    "\n",
    "scores.best_score_ , scores.best_estimator_"
   ]
  },
  {
   "cell_type": "code",
   "execution_count": 111,
   "metadata": {},
   "outputs": [
    {
     "name": "stdout",
     "output_type": "stream",
     "text": [
      "0.871838  with:   {'max_depth': 10, 'max_features': 9, 'n_estimators': 10}\n",
      "0.874009  with:   {'max_depth': 10, 'max_features': 9, 'n_estimators': 25}\n",
      "0.884277  with:   {'max_depth': 10, 'max_features': 9, 'n_estimators': 50}\n",
      "0.874666  with:   {'max_depth': 10, 'max_features': 10, 'n_estimators': 10}\n",
      "0.888942  with:   {'max_depth': 10, 'max_features': 10, 'n_estimators': 25}\n",
      "0.894551  with:   {'max_depth': 10, 'max_features': 10, 'n_estimators': 50}\n",
      "0.933757  with:   {'max_depth': 10, 'max_features': 29, 'n_estimators': 10}\n",
      "0.936775  with:   {'max_depth': 10, 'max_features': 29, 'n_estimators': 25}\n",
      "0.937109  with:   {'max_depth': 10, 'max_features': 29, 'n_estimators': 50}\n",
      "0.939932  with:   {'max_depth': 20, 'max_features': 9, 'n_estimators': 10}\n",
      "0.950445  with:   {'max_depth': 20, 'max_features': 9, 'n_estimators': 25}\n",
      "0.952043  with:   {'max_depth': 20, 'max_features': 9, 'n_estimators': 50}\n",
      "0.948515  with:   {'max_depth': 20, 'max_features': 10, 'n_estimators': 10}\n",
      "0.955328  with:   {'max_depth': 20, 'max_features': 10, 'n_estimators': 25}\n",
      "0.954856  with:   {'max_depth': 20, 'max_features': 10, 'n_estimators': 50}\n",
      "0.959715  with:   {'max_depth': 20, 'max_features': 29, 'n_estimators': 10}\n",
      "0.962646  with:   {'max_depth': 20, 'max_features': 29, 'n_estimators': 25}\n",
      "0.963546  with:   {'max_depth': 20, 'max_features': 29, 'n_estimators': 50}\n",
      "0.944163  with:   {'max_depth': 30, 'max_features': 9, 'n_estimators': 10}\n",
      "0.952387  with:   {'max_depth': 30, 'max_features': 9, 'n_estimators': 25}\n",
      "0.955008  with:   {'max_depth': 30, 'max_features': 9, 'n_estimators': 50}\n",
      "0.946262  with:   {'max_depth': 30, 'max_features': 10, 'n_estimators': 10}\n",
      "0.955668  with:   {'max_depth': 30, 'max_features': 10, 'n_estimators': 25}\n",
      "0.957798  with:   {'max_depth': 30, 'max_features': 10, 'n_estimators': 50}\n",
      "0.958716  with:   {'max_depth': 30, 'max_features': 29, 'n_estimators': 10}\n",
      "0.962979  with:   {'max_depth': 30, 'max_features': 29, 'n_estimators': 25}\n",
      "0.963590  with:   {'max_depth': 30, 'max_features': 29, 'n_estimators': 50}\n"
     ]
    }
   ],
   "source": [
    "means = scores.cv_results_['mean_test_score']\n",
    "params = scores.cv_results_['params']\n",
    "for mean,param in zip(means,params):\n",
    "    print(\"%f  with:   %r\" % (mean,param))"
   ]
  },
  {
   "cell_type": "markdown",
   "metadata": {},
   "source": [
    "## feature importance"
   ]
  },
  {
   "cell_type": "code",
   "execution_count": 112,
   "metadata": {},
   "outputs": [],
   "source": [
    "feature_list = list(df.columns)\n",
    "\n",
    "# Get numerical feature importances\n",
    "importances = list(algorithme.feature_importances_)"
   ]
  },
  {
   "cell_type": "code",
   "execution_count": 113,
   "metadata": {
    "scrolled": true
   },
   "outputs": [
    {
     "name": "stdout",
     "output_type": "stream",
     "text": [
      "Variable: resolved_at          Importance: 0.46\n",
      "Variable: sys_mod_count        Importance: 0.16\n",
      "Variable: u_priority_confirmation Importance: 0.11\n",
      "Variable: number               Importance: 0.1\n",
      "Variable: opened_at            Importance: 0.08\n",
      "Variable: active               Importance: 0.04\n",
      "Variable: incident_state       Importance: 0.01\n",
      "Variable: caller_id            Importance: 0.01\n",
      "Variable: assigned_to          Importance: 0.01\n",
      "Variable: reassignment_count   Importance: 0.0\n",
      "Variable: reopen_count         Importance: 0.0\n",
      "Variable: made_sla             Importance: 0.0\n",
      "Variable: opened_by            Importance: 0.0\n",
      "Variable: sys_created_by       Importance: 0.0\n",
      "Variable: sys_created_at       Importance: 0.0\n",
      "Variable: sys_updated_by       Importance: 0.0\n",
      "Variable: contact_type         Importance: 0.0\n",
      "Variable: location             Importance: 0.0\n",
      "Variable: category             Importance: 0.0\n",
      "Variable: subcategory          Importance: 0.0\n",
      "Variable: u_symptom            Importance: 0.0\n",
      "Variable: impact               Importance: 0.0\n",
      "Variable: urgency              Importance: 0.0\n",
      "Variable: priority             Importance: 0.0\n",
      "Variable: assignment_group     Importance: 0.0\n",
      "Variable: knowledge            Importance: 0.0\n",
      "Variable: notify               Importance: 0.0\n",
      "Variable: closed_code          Importance: 0.0\n",
      "Variable: resolved_by          Importance: 0.0\n"
     ]
    }
   ],
   "source": [
    "# List of tuples with variable and importance\n",
    "feature_importances = [(feature, round(importance, 2)) for feature, importance in zip(feature_list, importances)]\n",
    " \n",
    "# Sort the feature importances by most important first\n",
    "feature_importances = sorted(feature_importances, key = lambda x: x[1], reverse = True)\n",
    " \n",
    "# Print out the feature and importances \n",
    "[print('Variable: {:20} Importance: {}'.format(*pair)) for pair in feature_importances];"
   ]
  },
  {
   "cell_type": "code",
   "execution_count": 124,
   "metadata": {},
   "outputs": [
    {
     "data": {
      "image/png": "[encoded data removed]",
      "text/plain": [
       "<Figure size 864x432 with 1 Axes>"
      ]
     },
     "metadata": {
      "needs_background": "light"
     },
     "output_type": "display_data"
    }
   ],
   "source": [
    "%matplotlib inline\n",
    "import matplotlib.pyplot as plt\n",
    "\n",
    "# list of x locations for plotting\n",
    "x_values = list(range(len(importances)))\n",
    "\n",
    "plt.figure(figsize=(12,6)) \n",
    "    \n",
    "# Make a bar chart\n",
    "plt.barh(x_values, importances)\n",
    "\n",
    "# Tick labels for x axis\n",
    "plt.yticks(x_values, feature_list)#, rotation='horizontal')\n",
    " \n",
    "# Axis labels and title\n",
    "plt.xlabel('Importance')\n",
    "plt.ylabel('Variable')\n",
    "plt.title('Variable Importances')\n",
    "\n",
    "\n",
    "plt.savefig(\"variable_importance.png\", dpi = 200)"
   ]
  },
  {
   "cell_type": "code",
   "execution_count": 101,
   "metadata": {},
   "outputs": [],
   "source": [
    "df_final = df.drop([\"reassignment_count\",\"reopen_count\",\"made_sla\",\"opened_by\",\"sys_created_by\",\n",
    "               \"sys_created_at\",\"sys_updated_by\",\"contact_type\",\"location\",\"category\",\n",
    "               \"subcategory\",\"u_symptom\",\"impact\",\"urgency\",\"priority\",\"knowledge\",\n",
    "               \"notify\",\"closed_code\",\"resolved_by\"],axis = 1)"
   ]
  },
  {
   "cell_type": "code",
   "execution_count": 189,
   "metadata": {},
   "outputs": [],
   "source": [
    "df_final.to_csv(\"log_final.csv\")"
   ]
  },
  {
   "cell_type": "code",
   "execution_count": 159,
   "metadata": {},
   "outputs": [
    {
     "data": {
      "text/plain": [
       "<matplotlib.axes._subplots.AxesSubplot at 0x1a6fda8320>"
      ]
     },
     "execution_count": 159,
     "metadata": {},
     "output_type": "execute_result"
    },
    {
     "data": {
      "image/png": "[encoded data removed]",
      "text/plain": [
       "<Figure size 432x288 with 1 Axes>"
      ]
     },
     "metadata": {
      "needs_background": "light"
     },
     "output_type": "display_data"
    }
   ],
   "source": [
    "df_final.plot.scatter(y=\"rest_time2\",x=\"resolved_at\")"
   ]
  },
  {
   "cell_type": "code",
   "execution_count": 164,
   "metadata": {},
   "outputs": [
    {
     "data": {
      "text/plain": [
       "<matplotlib.axes._subplots.AxesSubplot at 0x1a6fd95c88>"
      ]
     },
     "execution_count": 164,
     "metadata": {},
     "output_type": "execute_result"
    },
    {
     "data": {
      "image/png": "[encoded data removed]",
      "text/plain": [
       "<Figure size 432x288 with 1 Axes>"
      ]
     },
     "metadata": {
      "needs_background": "light"
     },
     "output_type": "display_data"
    }
   ],
   "source": [
    "df_final.plot.scatter(y=\"rest_time2\",x=\"sys_mod_count\")"
   ]
  },
  {
   "cell_type": "code",
   "execution_count": 184,
   "metadata": {},
   "outputs": [
    {
     "data": {
      "text/plain": [
       "<matplotlib.axes._subplots.AxesSubplot at 0x1a7b521d30>"
      ]
     },
     "execution_count": 184,
     "metadata": {},
     "output_type": "execute_result"
    },
    {
     "data": {
      "image/png": "[encoded data removed]",
      "text/plain": [
       "<Figure size 432x288 with 1 Axes>"
      ]
     },
     "metadata": {
      "needs_background": "light"
     },
     "output_type": "display_data"
    }
   ],
   "source": [
    "df_final.boxplot(column = [\"number\"],sym=\"o\",whis=1.5)"
   ]
  },
  {
   "cell_type": "code",
   "execution_count": 102,
   "metadata": {},
   "outputs": [
    {
     "data": {
      "text/plain": [
       "0.9568073115438819"
      ]
     },
     "execution_count": 102,
     "metadata": {},
     "output_type": "execute_result"
    }
   ],
   "source": [
    "X = df_final.iloc[:,:-1]\n",
    "\n",
    "y = df_final[\"rest_time2\"]\n",
    "\n",
    "from sklearn.model_selection import train_test_split\n",
    "X_train, X_test, Y_train, Y_test = train_test_split(X,y)\n",
    "\n",
    "\n",
    "\n",
    "from sklearn.ensemble import RandomForestRegressor\n",
    "from sklearn.tree import DecisionTreeRegressor\n",
    "\n",
    "def get_score(algorithme, X_train, X_test, Y_train, Y_test):\n",
    "    modele     = algorithme.fit(X_train, Y_train)\n",
    "    score      = modele.score(X_test, Y_test)\n",
    "    return score\n",
    "\n",
    "hyperparametres = {\"n_estimators\" : 30,\n",
    "                  \"max_features\"  :  10,\n",
    "                  \"max_depth\"     :  50,}\n",
    "algorithme = RandomForestRegressor(**hyperparametres)\n",
    "score = get_score(algorithme, X_train, X_test, Y_train, Y_test)\n",
    "score"
   ]
  },
  {
   "cell_type": "code",
   "execution_count": 141,
   "metadata": {},
   "outputs": [],
   "source": [
    "%matplotlib inline\n",
    "import seaborn as sns"
   ]
  },
  {
   "cell_type": "code",
   "execution_count": 187,
   "metadata": {},
   "outputs": [
    {
     "data": {
      "image/png": "[encoded data removed]",
      "text/plain": [
       "<Figure size 432x288 with 2 Axes>"
      ]
     },
     "metadata": {
      "needs_background": "light"
     },
     "output_type": "display_data"
    }
   ],
   "source": [
    "heat = sns.heatmap(df_final.corr(), square=True,linewidths = 0.05, annot=True, annot_kws={'size':4,'color':'white'}, cmap=\"Blues\")"
   ]
  },
  {
   "cell_type": "code",
   "execution_count": 188,
   "metadata": {},
   "outputs": [],
   "source": [
    "figure = heat.get_figure()\n",
    "figure.savefig(\"heat.png\", dpi = 500)"
   ]
  }
 ],
 "metadata": {
  "kernelspec": {
   "display_name": "Python 3",
   "language": "python",
   "name": "python3"
  },
  "language_info": {
   "codemirror_mode": {
    "name": "ipython",
    "version": 3
   },
   "file_extension": ".py",
   "mimetype": "text/x-python",
   "name": "python",
   "nbconvert_exporter": "python",
   "pygments_lexer": "ipython3",
   "version": "3.7.3"
  }
 },
 "nbformat": 4,
 "nbformat_minor": 2
}
